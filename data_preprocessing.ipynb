{
 "cells": [
  {
   "cell_type": "code",
   "execution_count": 2,
   "id": "130aee42",
   "metadata": {},
   "outputs": [
    {
     "name": "stdout",
     "output_type": "stream",
     "text": [
      "Collecting imbalanced-learn\n",
      "  Downloading imbalanced_learn-0.12.4-py3-none-any.whl (258 kB)\n",
      "Requirement already satisfied: scipy>=1.5.0 in c:\\users\\dell\\anaconda3\\envs\\datamining2\\lib\\site-packages (from imbalanced-learn) (1.5.2)\n",
      "Collecting joblib>=1.1.1\n",
      "  Downloading joblib-1.1.1-py2.py3-none-any.whl (309 kB)\n",
      "Requirement already satisfied: numpy>=1.17.3 in c:\\users\\dell\\anaconda3\\envs\\datamining2\\lib\\site-packages (from imbalanced-learn) (1.19.2)\n",
      "Requirement already satisfied: threadpoolctl>=2.0.0 in c:\\users\\dell\\anaconda3\\envs\\datamining2\\lib\\site-packages (from imbalanced-learn) (2.2.0)\n",
      "Collecting imbalanced-learn\n",
      "  Downloading imbalanced_learn-0.12.3-py3-none-any.whl (258 kB)\n",
      "  Downloading imbalanced_learn-0.12.2-py3-none-any.whl (257 kB)\n",
      "  Downloading imbalanced_learn-0.12.1-py3-none-any.whl (257 kB)\n",
      "  Downloading imbalanced_learn-0.12.0-py3-none-any.whl (257 kB)\n",
      "  Downloading imbalanced_learn-0.11.0-py3-none-any.whl (235 kB)\n",
      "  Downloading imbalanced_learn-0.10.1-py3-none-any.whl (226 kB)\n",
      "  Downloading imbalanced_learn-0.10.0-py3-none-any.whl (225 kB)\n",
      "  Downloading imbalanced_learn-0.9.1-py3-none-any.whl (199 kB)\n",
      "Requirement already satisfied: joblib>=1.0.0 in c:\\users\\dell\\anaconda3\\envs\\datamining2\\lib\\site-packages (from imbalanced-learn) (1.0.1)\n",
      "  Downloading imbalanced_learn-0.9.0-py3-none-any.whl (199 kB)\n",
      "  Downloading imbalanced_learn-0.8.1-py3-none-any.whl (189 kB)\n",
      "Requirement already satisfied: scikit-learn>=0.24 in c:\\users\\dell\\anaconda3\\envs\\datamining2\\lib\\site-packages (from imbalanced-learn) (0.24.2)\n",
      "Installing collected packages: imbalanced-learn\n",
      "Successfully installed imbalanced-learn-0.8.1\n",
      "Note: you may need to restart the kernel to use updated packages.\n"
     ]
    }
   ],
   "source": [
    "pip install imbalanced-learn"
   ]
  },
  {
   "cell_type": "code",
   "execution_count": 3,
   "id": "c9ba8e84-7454-4856-b492-aacc72ce8b2a",
   "metadata": {},
   "outputs": [],
   "source": [
    "import os\n",
    "import subprocess\n",
    "import numpy as np\n",
    "import pandas as pd\n",
    "import matplotlib.pyplot as plt\n",
    "from imblearn.over_sampling import SMOTE\n",
    "from sklearn.feature_selection import RFE\n",
    "from sklearn.preprocessing import StandardScaler\n",
    "from sklearn.decomposition import PCA, KernelPCA\n",
    "from sklearn.ensemble import RandomForestClassifier\n",
    "from sklearn.model_selection import train_test_split\n",
    "from sklearn.feature_selection import VarianceThreshold\n",
    "from sklearn.feature_selection import SelectKBest, f_classif\n",
    "from imblearn.under_sampling import NearMiss"
   ]
  },
  {
   "cell_type": "code",
   "execution_count": 3,
   "id": "1c0ff321-8048-4921-8bd3-a0634791d54f",
   "metadata": {},
   "outputs": [
    {
     "data": {
      "text/html": [
       "<div>\n",
       "<style scoped>\n",
       "    .dataframe tbody tr th:only-of-type {\n",
       "        vertical-align: middle;\n",
       "    }\n",
       "\n",
       "    .dataframe tbody tr th {\n",
       "        vertical-align: top;\n",
       "    }\n",
       "\n",
       "    .dataframe thead th {\n",
       "        text-align: right;\n",
       "    }\n",
       "</style>\n",
       "<table border=\"1\" class=\"dataframe\">\n",
       "  <thead>\n",
       "    <tr style=\"text-align: right;\">\n",
       "      <th></th>\n",
       "      <th>fips</th>\n",
       "      <th>date</th>\n",
       "      <th>PRECTOT</th>\n",
       "      <th>PS</th>\n",
       "      <th>QV2M</th>\n",
       "      <th>T2M</th>\n",
       "      <th>T2MDEW</th>\n",
       "      <th>T2MWET</th>\n",
       "      <th>T2M_MAX</th>\n",
       "      <th>T2M_MIN</th>\n",
       "      <th>...</th>\n",
       "      <th>TS</th>\n",
       "      <th>WS10M</th>\n",
       "      <th>WS10M_MAX</th>\n",
       "      <th>WS10M_MIN</th>\n",
       "      <th>WS10M_RANGE</th>\n",
       "      <th>WS50M</th>\n",
       "      <th>WS50M_MAX</th>\n",
       "      <th>WS50M_MIN</th>\n",
       "      <th>WS50M_RANGE</th>\n",
       "      <th>score</th>\n",
       "    </tr>\n",
       "  </thead>\n",
       "  <tbody>\n",
       "    <tr>\n",
       "      <th>0</th>\n",
       "      <td>1001</td>\n",
       "      <td>2000-01-04</td>\n",
       "      <td>15.95</td>\n",
       "      <td>100.29</td>\n",
       "      <td>6.42</td>\n",
       "      <td>11.40</td>\n",
       "      <td>6.09</td>\n",
       "      <td>6.10</td>\n",
       "      <td>18.09</td>\n",
       "      <td>2.16</td>\n",
       "      <td>...</td>\n",
       "      <td>11.31</td>\n",
       "      <td>3.84</td>\n",
       "      <td>5.67</td>\n",
       "      <td>2.08</td>\n",
       "      <td>3.59</td>\n",
       "      <td>6.73</td>\n",
       "      <td>9.31</td>\n",
       "      <td>3.74</td>\n",
       "      <td>5.58</td>\n",
       "      <td>1</td>\n",
       "    </tr>\n",
       "    <tr>\n",
       "      <th>1</th>\n",
       "      <td>1001</td>\n",
       "      <td>2000-01-11</td>\n",
       "      <td>1.33</td>\n",
       "      <td>100.40</td>\n",
       "      <td>6.63</td>\n",
       "      <td>11.48</td>\n",
       "      <td>7.84</td>\n",
       "      <td>7.84</td>\n",
       "      <td>18.88</td>\n",
       "      <td>5.72</td>\n",
       "      <td>...</td>\n",
       "      <td>10.43</td>\n",
       "      <td>1.76</td>\n",
       "      <td>2.48</td>\n",
       "      <td>1.05</td>\n",
       "      <td>1.43</td>\n",
       "      <td>3.55</td>\n",
       "      <td>6.38</td>\n",
       "      <td>1.71</td>\n",
       "      <td>4.67</td>\n",
       "      <td>2</td>\n",
       "    </tr>\n",
       "    <tr>\n",
       "      <th>2</th>\n",
       "      <td>1001</td>\n",
       "      <td>2000-01-18</td>\n",
       "      <td>1.11</td>\n",
       "      <td>100.39</td>\n",
       "      <td>9.53</td>\n",
       "      <td>14.28</td>\n",
       "      <td>13.26</td>\n",
       "      <td>13.26</td>\n",
       "      <td>18.04</td>\n",
       "      <td>8.98</td>\n",
       "      <td>...</td>\n",
       "      <td>14.19</td>\n",
       "      <td>2.63</td>\n",
       "      <td>3.60</td>\n",
       "      <td>1.67</td>\n",
       "      <td>1.92</td>\n",
       "      <td>5.19</td>\n",
       "      <td>6.40</td>\n",
       "      <td>3.84</td>\n",
       "      <td>2.55</td>\n",
       "      <td>2</td>\n",
       "    </tr>\n",
       "    <tr>\n",
       "      <th>3</th>\n",
       "      <td>1001</td>\n",
       "      <td>2000-01-25</td>\n",
       "      <td>0.00</td>\n",
       "      <td>100.11</td>\n",
       "      <td>2.05</td>\n",
       "      <td>-0.78</td>\n",
       "      <td>-7.93</td>\n",
       "      <td>-7.72</td>\n",
       "      <td>5.65</td>\n",
       "      <td>-5.46</td>\n",
       "      <td>...</td>\n",
       "      <td>-0.61</td>\n",
       "      <td>3.35</td>\n",
       "      <td>4.59</td>\n",
       "      <td>2.28</td>\n",
       "      <td>2.32</td>\n",
       "      <td>5.75</td>\n",
       "      <td>8.03</td>\n",
       "      <td>3.96</td>\n",
       "      <td>4.07</td>\n",
       "      <td>2</td>\n",
       "    </tr>\n",
       "    <tr>\n",
       "      <th>4</th>\n",
       "      <td>1001</td>\n",
       "      <td>2000-02-01</td>\n",
       "      <td>0.00</td>\n",
       "      <td>101.00</td>\n",
       "      <td>3.36</td>\n",
       "      <td>2.06</td>\n",
       "      <td>-1.73</td>\n",
       "      <td>-1.70</td>\n",
       "      <td>11.02</td>\n",
       "      <td>-4.21</td>\n",
       "      <td>...</td>\n",
       "      <td>1.88</td>\n",
       "      <td>2.03</td>\n",
       "      <td>2.74</td>\n",
       "      <td>0.88</td>\n",
       "      <td>1.86</td>\n",
       "      <td>4.18</td>\n",
       "      <td>6.38</td>\n",
       "      <td>1.27</td>\n",
       "      <td>5.11</td>\n",
       "      <td>1</td>\n",
       "    </tr>\n",
       "  </tbody>\n",
       "</table>\n",
       "<p>5 rows × 21 columns</p>\n",
       "</div>"
      ],
      "text/plain": [
       "   fips        date  PRECTOT      PS  QV2M    T2M  T2MDEW  T2MWET  T2M_MAX  \\\n",
       "0  1001  2000-01-04    15.95  100.29  6.42  11.40    6.09    6.10    18.09   \n",
       "1  1001  2000-01-11     1.33  100.40  6.63  11.48    7.84    7.84    18.88   \n",
       "2  1001  2000-01-18     1.11  100.39  9.53  14.28   13.26   13.26    18.04   \n",
       "3  1001  2000-01-25     0.00  100.11  2.05  -0.78   -7.93   -7.72     5.65   \n",
       "4  1001  2000-02-01     0.00  101.00  3.36   2.06   -1.73   -1.70    11.02   \n",
       "\n",
       "   T2M_MIN  ...     TS  WS10M  WS10M_MAX  WS10M_MIN  WS10M_RANGE  WS50M  \\\n",
       "0     2.16  ...  11.31   3.84       5.67       2.08         3.59   6.73   \n",
       "1     5.72  ...  10.43   1.76       2.48       1.05         1.43   3.55   \n",
       "2     8.98  ...  14.19   2.63       3.60       1.67         1.92   5.19   \n",
       "3    -5.46  ...  -0.61   3.35       4.59       2.28         2.32   5.75   \n",
       "4    -4.21  ...   1.88   2.03       2.74       0.88         1.86   4.18   \n",
       "\n",
       "   WS50M_MAX  WS50M_MIN  WS50M_RANGE  score  \n",
       "0       9.31       3.74         5.58      1  \n",
       "1       6.38       1.71         4.67      2  \n",
       "2       6.40       3.84         2.55      2  \n",
       "3       8.03       3.96         4.07      2  \n",
       "4       6.38       1.27         5.11      1  \n",
       "\n",
       "[5 rows x 21 columns]"
      ]
     },
     "execution_count": 3,
     "metadata": {},
     "output_type": "execute_result"
    }
   ],
   "source": [
    "drought_df = pd.read_csv('drought_data_v1.csv')\n",
    "drought_df.head()"
   ]
  },
  {
   "cell_type": "code",
   "execution_count": 5,
   "id": "ce238ed7-2f51-4e91-9b39-62384b161334",
   "metadata": {},
   "outputs": [
    {
     "name": "stdout",
     "output_type": "stream",
     "text": [
      "<class 'pandas.core.frame.DataFrame'>\n",
      "RangeIndex: 1460760 entries, 0 to 1460759\n",
      "Data columns (total 21 columns):\n",
      " #   Column       Non-Null Count    Dtype  \n",
      "---  ------       --------------    -----  \n",
      " 0   fips         1460760 non-null  int64  \n",
      " 1   date         1460760 non-null  object \n",
      " 2   PRECTOT      1460760 non-null  float64\n",
      " 3   PS           1460760 non-null  float64\n",
      " 4   QV2M         1460760 non-null  float64\n",
      " 5   T2M          1460760 non-null  float64\n",
      " 6   T2MDEW       1460760 non-null  float64\n",
      " 7   T2MWET       1460760 non-null  float64\n",
      " 8   T2M_MAX      1460760 non-null  float64\n",
      " 9   T2M_MIN      1460760 non-null  float64\n",
      " 10  T2M_RANGE    1460760 non-null  float64\n",
      " 11  TS           1460760 non-null  float64\n",
      " 12  WS10M        1460760 non-null  float64\n",
      " 13  WS10M_MAX    1460760 non-null  float64\n",
      " 14  WS10M_MIN    1460760 non-null  float64\n",
      " 15  WS10M_RANGE  1460760 non-null  float64\n",
      " 16  WS50M        1460760 non-null  float64\n",
      " 17  WS50M_MAX    1460760 non-null  float64\n",
      " 18  WS50M_MIN    1460760 non-null  float64\n",
      " 19  WS50M_RANGE  1460760 non-null  float64\n",
      " 20  score        1460760 non-null  int64  \n",
      "dtypes: float64(18), int64(2), object(1)\n",
      "memory usage: 234.0+ MB\n"
     ]
    }
   ],
   "source": [
    "drought_df.info()"
   ]
  },
  {
   "cell_type": "code",
   "execution_count": 6,
   "id": "81df0dbb-e48a-4739-96d5-de9e1a13f3fd",
   "metadata": {},
   "outputs": [
    {
     "data": {
      "text/plain": [
       "fips           0\n",
       "date           0\n",
       "PRECTOT        0\n",
       "PS             0\n",
       "QV2M           0\n",
       "T2M            0\n",
       "T2MDEW         0\n",
       "T2MWET         0\n",
       "T2M_MAX        0\n",
       "T2M_MIN        0\n",
       "T2M_RANGE      0\n",
       "TS             0\n",
       "WS10M          0\n",
       "WS10M_MAX      0\n",
       "WS10M_MIN      0\n",
       "WS10M_RANGE    0\n",
       "WS50M          0\n",
       "WS50M_MAX      0\n",
       "WS50M_MIN      0\n",
       "WS50M_RANGE    0\n",
       "score          0\n",
       "dtype: int64"
      ]
     },
     "execution_count": 6,
     "metadata": {},
     "output_type": "execute_result"
    }
   ],
   "source": [
    "drought_df.isnull().sum()"
   ]
  },
  {
   "cell_type": "code",
   "execution_count": 7,
   "id": "bcd490a0-8277-41ce-88b7-6a5ceb0b738f",
   "metadata": {},
   "outputs": [
    {
     "data": {
      "text/html": [
       "<div>\n",
       "<style scoped>\n",
       "    .dataframe tbody tr th:only-of-type {\n",
       "        vertical-align: middle;\n",
       "    }\n",
       "\n",
       "    .dataframe tbody tr th {\n",
       "        vertical-align: top;\n",
       "    }\n",
       "\n",
       "    .dataframe thead th {\n",
       "        text-align: right;\n",
       "    }\n",
       "</style>\n",
       "<table border=\"1\" class=\"dataframe\">\n",
       "  <thead>\n",
       "    <tr style=\"text-align: right;\">\n",
       "      <th></th>\n",
       "      <th>fips</th>\n",
       "      <th>date</th>\n",
       "      <th>PRECTOT</th>\n",
       "      <th>PS</th>\n",
       "      <th>QV2M</th>\n",
       "      <th>T2M</th>\n",
       "      <th>T2MDEW</th>\n",
       "      <th>T2MWET</th>\n",
       "      <th>T2M_MAX</th>\n",
       "      <th>T2M_MIN</th>\n",
       "      <th>...</th>\n",
       "      <th>TS</th>\n",
       "      <th>WS10M</th>\n",
       "      <th>WS10M_MAX</th>\n",
       "      <th>WS10M_MIN</th>\n",
       "      <th>WS10M_RANGE</th>\n",
       "      <th>WS50M</th>\n",
       "      <th>WS50M_MAX</th>\n",
       "      <th>WS50M_MIN</th>\n",
       "      <th>WS50M_RANGE</th>\n",
       "      <th>score</th>\n",
       "    </tr>\n",
       "  </thead>\n",
       "  <tbody>\n",
       "  </tbody>\n",
       "</table>\n",
       "<p>0 rows × 21 columns</p>\n",
       "</div>"
      ],
      "text/plain": [
       "Empty DataFrame\n",
       "Columns: [fips, date, PRECTOT, PS, QV2M, T2M, T2MDEW, T2MWET, T2M_MAX, T2M_MIN, T2M_RANGE, TS, WS10M, WS10M_MAX, WS10M_MIN, WS10M_RANGE, WS50M, WS50M_MAX, WS50M_MIN, WS50M_RANGE, score]\n",
       "Index: []\n",
       "\n",
       "[0 rows x 21 columns]"
      ]
     },
     "execution_count": 7,
     "metadata": {},
     "output_type": "execute_result"
    }
   ],
   "source": [
    "drought_df[drought_df.duplicated()]"
   ]
  },
  {
   "cell_type": "code",
   "execution_count": 8,
   "id": "7fc6e75d-65ec-41e9-a710-1649e9d057c8",
   "metadata": {},
   "outputs": [
    {
     "data": {
      "text/plain": [
       "0"
      ]
     },
     "execution_count": 8,
     "metadata": {},
     "output_type": "execute_result"
    }
   ],
   "source": [
    "drought_df.duplicated().sum()"
   ]
  },
  {
   "cell_type": "code",
   "execution_count": 9,
   "id": "2954f362-ec05-42cb-94a0-3f032fc4275c",
   "metadata": {},
   "outputs": [
    {
     "name": "stdout",
     "output_type": "stream",
     "text": [
      "<class 'pandas.core.frame.DataFrame'>\n",
      "RangeIndex: 1460760 entries, 0 to 1460759\n",
      "Data columns (total 23 columns):\n",
      " #   Column       Non-Null Count    Dtype  \n",
      "---  ------       --------------    -----  \n",
      " 0   fips         1460760 non-null  int64  \n",
      " 1   PRECTOT      1460760 non-null  float64\n",
      " 2   PS           1460760 non-null  float64\n",
      " 3   QV2M         1460760 non-null  float64\n",
      " 4   T2M          1460760 non-null  float64\n",
      " 5   T2MDEW       1460760 non-null  float64\n",
      " 6   T2MWET       1460760 non-null  float64\n",
      " 7   T2M_MAX      1460760 non-null  float64\n",
      " 8   T2M_MIN      1460760 non-null  float64\n",
      " 9   T2M_RANGE    1460760 non-null  float64\n",
      " 10  TS           1460760 non-null  float64\n",
      " 11  WS10M        1460760 non-null  float64\n",
      " 12  WS10M_MAX    1460760 non-null  float64\n",
      " 13  WS10M_MIN    1460760 non-null  float64\n",
      " 14  WS10M_RANGE  1460760 non-null  float64\n",
      " 15  WS50M        1460760 non-null  float64\n",
      " 16  WS50M_MAX    1460760 non-null  float64\n",
      " 17  WS50M_MIN    1460760 non-null  float64\n",
      " 18  WS50M_RANGE  1460760 non-null  float64\n",
      " 19  score        1460760 non-null  int64  \n",
      " 20  year         1460760 non-null  int32  \n",
      " 21  month        1460760 non-null  int32  \n",
      " 22  day          1460760 non-null  int32  \n",
      "dtypes: float64(18), int32(3), int64(2)\n",
      "memory usage: 239.6 MB\n"
     ]
    }
   ],
   "source": [
    "def date_processing(df, date_column):\n",
    "    \n",
    "    df['year'] = pd.DatetimeIndex(df[date_column]).year\n",
    "    df['month'] = pd.DatetimeIndex(df[date_column]).month\n",
    "    df['day'] = pd.DatetimeIndex(df[date_column]).day\n",
    "    df.drop(columns=date_column,inplace=True)\n",
    "    \n",
    "    return df\n",
    "\n",
    "drought_df = date_processing(drought_df, 'date')\n",
    "drought_df.info()"
   ]
  },
  {
   "cell_type": "code",
   "execution_count": 10,
   "id": "c14c5cea-8f33-4ca6-a380-d79764995158",
   "metadata": {},
   "outputs": [
    {
     "name": "stdout",
     "output_type": "stream",
     "text": [
      "Total rows =  1315824\n"
     ]
    }
   ],
   "source": [
    "import pandas as pd\n",
    "\n",
    "def remove_outliers(df, columns, threshold=3):\n",
    "    for column in columns:\n",
    "        mean = df[column].mean()\n",
    "        std_dev = df[column].std()\n",
    "        df = df[(df[column] <= mean + threshold * std_dev) & \n",
    "                (df[column] >= mean - threshold * std_dev)]\n",
    "    \n",
    "    return df\n",
    "\n",
    "# List of columns to filter\n",
    "columns_to_filter = [\n",
    "    'PRECTOT', 'PS', 'QV2M', 'T2M', 'T2MDEW', 'T2MWET', 'T2M_MAX', 'T2M_MIN', \n",
    "    'T2M_RANGE', 'TS', 'WS10M', 'WS10M_MAX', 'WS10M_MIN', 'WS10M_RANGE', \n",
    "    'WS50M', 'WS50M_MAX', 'WS50M_MIN', 'WS50M_RANGE'\n",
    "]\n",
    "\n",
    "drought_df = remove_outliers(drought_df, columns_to_filter)\n",
    "print('Total rows = ', len(drought_df.index))"
   ]
  },
  {
   "cell_type": "code",
   "execution_count": 12,
   "id": "844c705d-96fd-4680-8320-9bd2c708d92c",
   "metadata": {},
   "outputs": [
    {
     "data": {
      "text/plain": [
       "0    1\n",
       "1    2\n",
       "2    2\n",
       "3    2\n",
       "4    1\n",
       "Name: score, dtype: int64"
      ]
     },
     "execution_count": 12,
     "metadata": {},
     "output_type": "execute_result"
    }
   ],
   "source": [
    "label = drought_df['score']\n",
    "label.head()"
   ]
  },
  {
   "cell_type": "code",
   "execution_count": 13,
   "id": "cfa08391-45a4-4a7d-8f46-0ec37d6612d8",
   "metadata": {},
   "outputs": [
    {
     "data": {
      "text/plain": [
       "Index(['fips', 'PRECTOT', 'PS', 'QV2M', 'T2M', 'T2MDEW', 'T2MWET', 'T2M_MAX',\n",
       "       'T2M_MIN', 'T2M_RANGE', 'TS', 'WS10M', 'WS10M_MAX', 'WS10M_MIN',\n",
       "       'WS10M_RANGE', 'WS50M', 'WS50M_MAX', 'WS50M_MIN', 'WS50M_RANGE', 'year',\n",
       "       'month', 'day'],\n",
       "      dtype='object')"
      ]
     },
     "execution_count": 13,
     "metadata": {},
     "output_type": "execute_result"
    }
   ],
   "source": [
    "features = drought_df.drop('score', axis=1)\n",
    "features.columns"
   ]
  },
  {
   "cell_type": "code",
   "execution_count": 15,
   "id": "20e78836-7de6-4cfd-968f-d59504e47ccc",
   "metadata": {},
   "outputs": [
    {
     "name": "stdout",
     "output_type": "stream",
     "text": [
      "X_train shape:  (1052659, 22)\n",
      "y_train shape:  (1052659,)\n",
      "X_test shape:  (263165, 22)\n",
      "y_test shape:  (263165,)\n"
     ]
    }
   ],
   "source": [
    "X_train, X_test, y_train, y_test = train_test_split(features, label, test_size=0.2, random_state=42, stratify=label)\n",
    "print(\"X_train shape: \",X_train.shape)\n",
    "print(\"y_train shape: \",y_train.shape)\n",
    "print(\"X_test shape: \",X_test.shape)\n",
    "print(\"y_test shape: \",y_test.shape)"
   ]
  },
  {
   "cell_type": "code",
   "execution_count": 17,
   "id": "342727f1-f477-4017-95c2-10740e565a0a",
   "metadata": {},
   "outputs": [
    {
     "data": {
      "image/png": "[encoded data removed]",
      "text/plain": [
       "<Figure size 1000x600 with 1 Axes>"
      ]
     },
     "metadata": {},
     "output_type": "display_data"
    }
   ],
   "source": [
    "classifier = RandomForestClassifier(n_estimators=10) # n is 100 by default we reduced it\n",
    "classifier.fit(X_train, y_train)\n",
    "\n",
    "feature_importance = classifier.feature_importances_\n",
    "\n",
    "plt.figure(figsize=(10, 6))\n",
    "plt.bar(features.columns, feature_importance)\n",
    "# plt.bar(X_train.columns, feature_importance)\n",
    "\n",
    "plt.xlabel('Features')\n",
    "plt.ylabel('Importance Scores')\n",
    "plt.title('Feature Importance Scores')\n",
    "plt.xticks(rotation=45)\n",
    "plt.show()\n"
   ]
  },
  {
   "cell_type": "code",
   "execution_count": 20,
   "id": "443dddab-eba8-49ea-9d1e-69a5f41dbb8a",
   "metadata": {},
   "outputs": [
    {
     "name": "stdout",
     "output_type": "stream",
     "text": [
      "Num Features: 15\n",
      "Selected Features: [ True False  True  True  True False  True  True  True  True  True False\n",
      "  True False False  True  True False  True  True False  True]\n",
      "Feature Ranking: [1 4 1 1 1 3 1 1 1 1 1 7 1 8 2 1 1 6 1 1 5 1]\n",
      "Index(['fips', 'PS', 'QV2M', 'T2M', 'T2MWET', 'T2M_MAX', 'T2M_MIN',\n",
      "       'T2M_RANGE', 'TS', 'WS10M_MAX', 'WS50M', 'WS50M_MAX', 'WS50M_RANGE',\n",
      "       'year', 'day'],\n",
      "      dtype='object')\n"
     ]
    }
   ],
   "source": [
    "# Feature selection using RFE (Recursive Feature Elimination) with RandomForest\n",
    "\n",
    "model = RandomForestClassifier(n_estimators=10) # n_estimators is the hyperparameter\n",
    "rfe = RFE(model, n_features_to_select=15) \n",
    "fit = rfe.fit(X_train, y_train)\n",
    "print(\"Num Features: %s\" % (fit.n_features_))\n",
    "print(\"Selected Features: %s\" % (fit.support_))\n",
    "print(\"Feature Ranking: %s\" % (fit.ranking_))\n",
    "selected_features = features.columns[(fit.get_support())]\n",
    "print(selected_features)"
   ]
  },
  {
   "cell_type": "code",
   "execution_count": 21,
   "id": "e119b983-d49b-4e5c-8155-a88247bc0ec3",
   "metadata": {},
   "outputs": [
    {
     "name": "stdout",
     "output_type": "stream",
     "text": [
      "Features after variance thresholding: Index(['fips', 'PRECTOT', 'PS', 'QV2M', 'T2M', 'T2MDEW', 'T2MWET', 'T2M_MAX',\n",
      "       'T2M_MIN', 'T2M_RANGE', 'TS', 'WS10M_MAX', 'WS50M', 'WS50M_MAX',\n",
      "       'WS50M_MIN', 'year', 'month', 'day'],\n",
      "      dtype='object')\n"
     ]
    }
   ],
   "source": [
    "selector = VarianceThreshold(threshold=3.5)  # Adjust threshold as needed\n",
    "X_train_var = selector.fit_transform(X_train)\n",
    "X_test_var = selector.transform(X_test)\n",
    "\n",
    "# Get the remaining features after applying variance threshold\n",
    "remaining_features = X_train.columns[selector.get_support()]\n",
    "print(f\"Features after variance thresholding: {remaining_features}\")"
   ]
  },
  {
   "cell_type": "code",
   "execution_count": 22,
   "id": "e05991cb-dd98-4164-897c-ecd3f5129e44",
   "metadata": {},
   "outputs": [
    {
     "name": "stdout",
     "output_type": "stream",
     "text": [
      "Selected Features: Index(['PRECTOT', 'PS', 'QV2M', 'T2M', 'T2MDEW', 'T2MWET', 'T2M_MAX',\n",
      "       'T2M_MIN', 'T2M_RANGE', 'TS', 'WS10M', 'WS10M_MAX', 'WS10M_RANGE',\n",
      "       'WS50M_RANGE', 'year'],\n",
      "      dtype='object')\n"
     ]
    }
   ],
   "source": [
    "selector = SelectKBest(score_func=f_classif, k=15)  # Select the top 15 features\n",
    "X_train_kbest = selector.fit_transform(X_train, y_train)\n",
    "X_test_kbest = selector.transform(X_test)\n",
    "\n",
    "# Step 3: Get the selected features\n",
    "selected_features = X_train.columns[selector.get_support()]\n",
    "print(f\"Selected Features: {selected_features}\")"
   ]
  },
  {
   "cell_type": "code",
   "execution_count": 23,
   "id": "a6bc0a9c-fb3b-4907-9ac2-7ef15d8e416c",
   "metadata": {},
   "outputs": [],
   "source": [
    "pca = PCA()\n",
    "X_train_PCAreduced = pca.fit_transform(X_train)\n",
    "X_test_PCAreduced = pca.transform(X_test)"
   ]
  },
  {
   "cell_type": "code",
   "execution_count": 24,
   "id": "97423060-93d6-4096-93b1-1283cdeaaf42",
   "metadata": {},
   "outputs": [
    {
     "name": "stdout",
     "output_type": "stream",
     "text": [
      "[9.99996208e-01 2.87226877e-06 3.47764866e-07 2.11884402e-07\n",
      " 9.38277880e-08 7.38336552e-08 5.11975298e-08 4.24459542e-08\n",
      " 3.34092381e-08 2.91971083e-08 2.23492716e-08 5.33027432e-09\n",
      " 3.20930581e-09 2.83468169e-09 9.03827123e-10 7.11793609e-10\n",
      " 5.55450434e-10 1.39781565e-10 6.02843517e-12 3.75329780e-14\n",
      " 3.73632326e-14 3.71719178e-14]\n"
     ]
    }
   ],
   "source": [
    "print(pca.explained_variance_ratio_)"
   ]
  },
  {
   "cell_type": "code",
   "execution_count": 25,
   "id": "50776b95-3489-46e8-9d2c-1087d7d2626f",
   "metadata": {},
   "outputs": [
    {
     "name": "stdout",
     "output_type": "stream",
     "text": [
      "[9.99996208e-01 2.87226877e-06 3.47764866e-07 2.11884402e-07\n",
      " 9.38277880e-08 7.38336552e-08 5.11975298e-08 4.24459542e-08\n",
      " 3.34092381e-08 2.91971083e-08]\n"
     ]
    }
   ],
   "source": [
    "# choosing n value that explains >90% variance\n",
    "pca = PCA(n_components=10)\n",
    "X_train_PCAreduced = pca.fit_transform(X_train)\n",
    "X_test_ = pca.transform(X_test)\n",
    "print(pca.explained_variance_ratio_)"
   ]
  },
  {
   "cell_type": "code",
   "execution_count": 26,
   "id": "522f2ab5-1368-4327-8b15-336377e3e332",
   "metadata": {},
   "outputs": [],
   "source": [
    "sc = StandardScaler()\n",
    "X_train = sc.fit_transform(X_train)\n",
    "X_test = sc.transform(X_test)"
   ]
  },
  {
   "cell_type": "code",
   "execution_count": 27,
   "id": "591d7276-bbe2-434b-996d-797f3768b259",
   "metadata": {},
   "outputs": [
    {
     "name": "stderr",
     "output_type": "stream",
     "text": [
      "C:\\Users\\DELL\\AppData\\Local\\Temp\\ipykernel_8556\\3966991691.py:3: FutureWarning: Series.ravel is deprecated. The underlying array is already 1D, so ravel is not necessary.  Use `to_numpy()` for conversion to a numpy array instead.\n",
      "  X_train_ups, y_train_ups = sm.fit_resample(X_train, y_train.ravel())\n",
      "C:\\Users\\DELL\\AppData\\Local\\Programs\\Python\\Python311\\Lib\\site-packages\\sklearn\\base.py:474: FutureWarning: `BaseEstimator._validate_data` is deprecated in 1.6 and will be removed in 1.7. Use `sklearn.utils.validation.validate_data` instead. This function becomes public and is part of the scikit-learn developer API.\n",
      "  warnings.warn(\n",
      "C:\\Users\\DELL\\AppData\\Local\\Programs\\Python\\Python311\\Lib\\site-packages\\sklearn\\utils\\_tags.py:354: FutureWarning: The SMOTE or classes from which it inherits use `_get_tags` and `_more_tags`. Please define the `__sklearn_tags__` method, or inherit from `sklearn.base.BaseEstimator` and/or other appropriate mixins such as `sklearn.base.TransformerMixin`, `sklearn.base.ClassifierMixin`, `sklearn.base.RegressorMixin`, and `sklearn.base.OutlierMixin`. From scikit-learn 1.7, not defining `__sklearn_tags__` will raise an error.\n",
      "  warnings.warn(\n"
     ]
    }
   ],
   "source": [
    "# Upsampling using SMOTE\n",
    "sm = SMOTE(random_state = 5)\n",
    "X_train_ups, y_train_ups = sm.fit_resample(X_train, y_train.ravel())"
   ]
  },
  {
   "cell_type": "code",
   "execution_count": 28,
   "id": "2cf17821-8e03-41fc-9dc9-7f812d298e02",
   "metadata": {},
   "outputs": [],
   "source": [
    "def print_summary(X_train, X_train_smote, y_train, y_train_smote):\n",
    "    \n",
    "   \n",
    "    print('Before OverSampling, the shape of train_X: {}'.format(X_train.shape))\n",
    "    print('Before OverSampling, the shape of train_y: {} \\n'.format(y_train.shape))\n",
    "\n",
    "    print('After OverSampling, the shape of train_X: {}'.format(X_train_smote.shape))\n",
    "    print('After OverSampling, the shape of train_y: {} \\n'.format(y_train_smote.shape))\n",
    "    \n",
    "    # Extract unique classes from the target\n",
    "    unique_classes = sorted(set(y_train))\n",
    "    \n",
    "    # Print the counts for each class before and after oversampling\n",
    "    for label in unique_classes:\n",
    "        print(f\"Counts of label '{label}' - Before Oversampling: {sum(y_train == label)}, After OverSampling: {sum(y_train_smote == label)}\")"
   ]
  },
  {
   "cell_type": "code",
   "execution_count": 29,
   "id": "ee449a68-ebd0-4c4c-b601-ff24b5e88f7a",
   "metadata": {},
   "outputs": [
    {
     "name": "stdout",
     "output_type": "stream",
     "text": [
      "Before OverSampling, the shape of train_X: (1052659, 22)\n",
      "Before OverSampling, the shape of train_y: (1052659,) \n",
      "\n",
      "After OverSampling, the shape of train_X: (3686064, 22)\n",
      "After OverSampling, the shape of train_y: (3686064,) \n",
      "\n",
      "Counts of label '0' - Before Oversampling: 614344, After OverSampling: 614344\n",
      "Counts of label '1' - Before Oversampling: 180554, After OverSampling: 614344\n",
      "Counts of label '2' - Before Oversampling: 123322, After OverSampling: 614344\n",
      "Counts of label '3' - Before Oversampling: 84854, After OverSampling: 614344\n",
      "Counts of label '4' - Before Oversampling: 39718, After OverSampling: 614344\n",
      "Counts of label '5' - Before Oversampling: 9867, After OverSampling: 614344\n"
     ]
    }
   ],
   "source": [
    "print_summary(X_train,X_train_ups,y_train,y_train_ups)"
   ]
  },
  {
   "cell_type": "code",
   "execution_count": 30,
   "id": "a20307da-fc41-48a5-9d24-41d4c351aecd",
   "metadata": {},
   "outputs": [
    {
     "name": "stderr",
     "output_type": "stream",
     "text": [
      "C:\\Users\\DELL\\AppData\\Local\\Programs\\Python\\Python311\\Lib\\site-packages\\sklearn\\base.py:474: FutureWarning: `BaseEstimator._validate_data` is deprecated in 1.6 and will be removed in 1.7. Use `sklearn.utils.validation.validate_data` instead. This function becomes public and is part of the scikit-learn developer API.\n",
      "  warnings.warn(\n",
      "C:\\Users\\DELL\\AppData\\Local\\Programs\\Python\\Python311\\Lib\\site-packages\\sklearn\\utils\\_tags.py:354: FutureWarning: The NearMiss or classes from which it inherits use `_get_tags` and `_more_tags`. Please define the `__sklearn_tags__` method, or inherit from `sklearn.base.BaseEstimator` and/or other appropriate mixins such as `sklearn.base.TransformerMixin`, `sklearn.base.ClassifierMixin`, `sklearn.base.RegressorMixin`, and `sklearn.base.OutlierMixin`. From scikit-learn 1.7, not defining `__sklearn_tags__` will raise an error.\n",
      "  warnings.warn(\n"
     ]
    }
   ],
   "source": [
    "undersample = NearMiss()\n",
    "X_train_dres, y_train_dres = undersample.fit_resample(X_train, y_train)"
   ]
  },
  {
   "cell_type": "code",
   "execution_count": 31,
   "id": "09c2c0fd-e0da-4dea-8291-ab557ca85c25",
   "metadata": {},
   "outputs": [
    {
     "name": "stdout",
     "output_type": "stream",
     "text": [
      "Before OverSampling, the shape of train_X: (1052659, 22)\n",
      "Before OverSampling, the shape of train_y: (1052659,) \n",
      "\n",
      "After OverSampling, the shape of train_X: (59202, 22)\n",
      "After OverSampling, the shape of train_y: (59202,) \n",
      "\n",
      "Counts of label '0' - Before Oversampling: 614344, After OverSampling: 9867\n",
      "Counts of label '1' - Before Oversampling: 180554, After OverSampling: 9867\n",
      "Counts of label '2' - Before Oversampling: 123322, After OverSampling: 9867\n",
      "Counts of label '3' - Before Oversampling: 84854, After OverSampling: 9867\n",
      "Counts of label '4' - Before Oversampling: 39718, After OverSampling: 9867\n",
      "Counts of label '5' - Before Oversampling: 9867, After OverSampling: 9867\n"
     ]
    }
   ],
   "source": [
    "print_summary(X_train,X_train_dres,y_train,y_train_dres)"
   ]
  },
  {
   "cell_type": "code",
   "execution_count": 33,
   "id": "6c5756d2-afb2-4dea-9606-f12957267783",
   "metadata": {},
   "outputs": [],
   "source": [
    "train_path = \"data/\"\n",
    "\n",
    "os.makedirs(train_path, exist_ok=True)\n",
    "\n",
    "# Save datasets\n",
    "pd.DataFrame(X_train).to_csv(os.path.join(train_path, \"X_train.csv\"), index=False)\n",
    "pd.DataFrame(y_train).to_csv(os.path.join(train_path, \"y_train.csv\"), index=False)\n",
    "pd.DataFrame(X_train_ups).to_csv(os.path.join(train_path, \"X_train_ups.csv\"), index=False)\n",
    "pd.DataFrame(y_train_ups).to_csv(os.path.join(train_path, \"y_train_ups.csv\"), index=False)\n",
    "pd.DataFrame(X_train_dres).to_csv(os.path.join(train_path, \"X_train_dres.csv\"), index=False)\n",
    "pd.DataFrame(y_train_dres).to_csv(os.path.join(train_path, \"y_train_dres.csv\"), index=False)\n",
    "pd.DataFrame(X_test).to_csv(os.path.join(train_path, \"X_test.csv\"), index=False)\n",
    "pd.DataFrame(y_test).to_csv(os.path.join(train_path, \"y_test.csv\"), index=False)"
   ]
  },
  {
   "cell_type": "code",
   "execution_count": null,
   "id": "45c9bea4-6c95-4403-a2a7-50b04e656d7c",
   "metadata": {},
   "outputs": [],
   "source": []
  }
 ],
 "metadata": {
  "kernelspec": {
   "display_name": "DataMining2",
   "language": "python",
   "name": "python3"
  },
  "language_info": {
   "codemirror_mode": {
    "name": "ipython",
    "version": 3
   },
   "file_extension": ".py",
   "mimetype": "text/x-python",
   "name": "python",
   "nbconvert_exporter": "python",
   "pygments_lexer": "ipython3",
   "version": "3.6.13"
  }
 },
 "nbformat": 4,
 "nbformat_minor": 5
}
